{
 "cells": [
  {
   "cell_type": "code",
   "id": "initial_id",
   "metadata": {
    "collapsed": true,
    "ExecuteTime": {
     "end_time": "2025-04-23T16:50:59.761620Z",
     "start_time": "2025-04-23T16:50:59.751676Z"
    }
   },
   "source": [
    "import torch\n",
    "\n",
    "device = torch.device(\"cuda\" if torch.cuda.is_available() else \"cpu\")\n",
    "print(\"Using device:\", device)\n"
   ],
   "outputs": [
    {
     "name": "stdout",
     "output_type": "stream",
     "text": [
      "Using device: cpu\n"
     ]
    }
   ],
   "execution_count": 8
  },
  {
   "metadata": {
    "ExecuteTime": {
     "end_time": "2025-04-26T12:29:35.575721Z",
     "start_time": "2025-04-26T12:17:35.326202Z"
    }
   },
   "cell_type": "code",
   "source": [
    "from sklearn.datasets import fetch_lfw_people\n",
    "\n",
    "# Fetch people with at least 2 images\n",
    "lfw_people = fetch_lfw_people(min_faces_per_person=2, resize=1.0, download_if_missing=True)\n",
    "\n",
    "print(\"Shape:\", lfw_people.images.shape)  # (n_samples, height, width)\n",
    "print(\"Number of people:\", len(lfw_people.target_names))\n",
    "print(\"Total images:\", len(lfw_people.images))\n"
   ],
   "id": "c0db36e76f891dd0",
   "outputs": [
    {
     "name": "stdout",
     "output_type": "stream",
     "text": [
      "Shape: (9164, 125, 94)\n",
      "Number of people: 1680\n",
      "Total images: 9164\n"
     ]
    }
   ],
   "execution_count": 2
  },
  {
   "metadata": {
    "ExecuteTime": {
     "end_time": "2025-04-26T12:29:40.271365Z",
     "start_time": "2025-04-26T12:29:38.684592Z"
    }
   },
   "cell_type": "code",
   "source": [
    "import numpy as np\n",
    "from sklearn.model_selection import train_test_split\n",
    "\n",
    "# Get images and labels\n",
    "X = lfw_people.images\n",
    "y = lfw_people.target\n",
    "target_names = lfw_people.target_names\n",
    "\n",
    "# Find unique persons\n",
    "unique_ids = np.unique(y)\n",
    "\n",
    "# Split persons into train and test (no overlap of people!)\n",
    "train_ids, test_ids = train_test_split(unique_ids, test_size=0.3, random_state=42)\n",
    "\n",
    "# Create train and test sets\n",
    "X_train = X[np.isin(y, train_ids)]\n",
    "y_train = y[np.isin(y, train_ids)]\n",
    "\n",
    "X_test = X[np.isin(y, test_ids)]\n",
    "y_test = y[np.isin(y, test_ids)]\n"
   ],
   "id": "2def81d1896c0b67",
   "outputs": [],
   "execution_count": 3
  },
  {
   "metadata": {
    "ExecuteTime": {
     "end_time": "2025-04-26T12:30:32.178567Z",
     "start_time": "2025-04-26T12:30:32.169298Z"
    }
   },
   "cell_type": "code",
   "source": [
    "print(X_train.shape)\n",
    "print(y_train.shape)\n",
    "print(X_test.shape)\n",
    "print(y_test.shape)"
   ],
   "id": "204135b42c78116e",
   "outputs": [
    {
     "name": "stdout",
     "output_type": "stream",
     "text": [
      "(6617, 125, 94)\n",
      "(6617,)\n",
      "(2547, 125, 94)\n",
      "(2547,)\n"
     ]
    }
   ],
   "execution_count": 4
  },
  {
   "metadata": {},
   "cell_type": "code",
   "outputs": [],
   "execution_count": null,
   "source": [
    "pairs = []\n",
    "labels = []\n",
    "\n",
    "# For each person\n",
    "for person_id in np.unique(y_train):\n",
    "    # Get all images of that person\n",
    "    person_images = X_train[y_train == person_id]\n",
    "\n",
    "    # Create positive pairs (same person)\n",
    "    for i in range(len(person_images)):\n",
    "        for j in range(i+1, len(person_images)):\n",
    "            pairs.append([person_images[i], person_images[j]])\n",
    "            labels.append(1)\n",
    "\n",
    "    # Create negative pairs (different people)\n",
    "    number_of_negatives_per_person = 3\n",
    "    for _ in range(number_of_negatives_per_person):\n",
    "        other_person_id = np.random.choice(np.setdiff1d(np.unique(y_train), [person_id]))\n",
    "        other_person_image = X_train[y_train == other_person_id][0]\n",
    "\n",
    "        pairs.append([person_images[0], other_person_image])\n",
    "        labels.append(0)\n"
   ],
   "id": "a9cc1348d6f25fc1"
  },
  {
   "metadata": {},
   "cell_type": "code",
   "outputs": [],
   "execution_count": null,
   "source": [
    "from torch.utils.data import Dataset\n",
    "\n",
    "class SiameseDataset(Dataset):\n",
    "    def __init__(self, images, labels, transform=None):\n",
    "        self.images = images\n",
    "        self.labels = labels\n",
    "        self.transform = transform\n",
    "\n",
    "        # Group images by person\n",
    "        self.person_to_images = {}\n",
    "        for idx, label in enumerate(labels):\n",
    "            if label not in self.person_to_images:\n",
    "                self.person_to_images[label] = []\n",
    "            self.person_to_images[label].append(idx)\n",
    "\n",
    "        self.person_ids = list(self.person_to_images.keys())\n",
    "\n",
    "    def __getitem__(self, idx):\n",
    "        # Randomly decide: positive or negative pair\n",
    "        should_get_same_class = torch.rand(1).item() < 0.5\n",
    "\n",
    "        img1_idx = torch.randint(len(self.images), (1,)).item()\n",
    "        img1 = self.images[img1_idx]\n",
    "        label1 = self.labels[img1_idx]\n",
    "\n",
    "        if should_get_same_class:\n",
    "            # Positive pair\n",
    "            img2_idx = torch.choice(self.person_to_images[label1])\n",
    "            label = 1\n",
    "        else:\n",
    "            # Negative pair\n",
    "            different_label = label1\n",
    "            while different_label == label1:\n",
    "                different_label = torch.choice(self.person_ids)\n",
    "            img2_idx = torch.choice(self.person_to_images[different_label])\n",
    "            label = 0\n",
    "\n",
    "        img2 = self.images[img2_idx]\n",
    "\n",
    "        # Apply transform (like resize, normalize) if needed\n",
    "        if self.transform:\n",
    "            img1 = self.transform(img1)\n",
    "            img2 = self.transform(img2)\n",
    "\n",
    "        return img1, img2, torch.tensor(label, dtype=torch.float32)\n",
    "\n",
    "    def __len__(self):\n",
    "        return len(self.images)\n"
   ],
   "id": "4635e56f998f5bd6"
  },
  {
   "metadata": {},
   "cell_type": "code",
   "outputs": [],
   "execution_count": null,
   "source": [
    "from torch.utils.data import DataLoader\n",
    "\n",
    "# Assuming your images/labels are numpy arrays\n",
    "train_dataset = SiameseDataset(X_train, y_train)\n",
    "\n",
    "train_loader = DataLoader(\n",
    "    train_dataset,\n",
    "    shuffle=True,\n",
    "    batch_size=32,  # how many pairs per batch\n",
    "    num_workers=2\n",
    ")\n"
   ],
   "id": "b34c778e6cfe869d"
  },
  {
   "metadata": {},
   "cell_type": "code",
   "outputs": [],
   "execution_count": null,
   "source": [
    "import torch.nn as nn\n",
    "\n",
    "class SiameseNetwork(nn.Module):\n",
    "    def __init__(self):\n",
    "        super(SiameseNetwork, self).__init__()\n",
    "\n",
    "        # CNN to extract features from an image\n",
    "        self.cnn = nn.Sequential(\n",
    "            nn.Conv2d(1, 32, kernel_size=5),   # (batch, 32, H-4, W-4)\n",
    "            nn.ReLU(),\n",
    "            nn.MaxPool2d(2),                   # (batch, 32, (H-4)//2, (W-4)//2)\n",
    "\n",
    "            nn.Conv2d(32, 64, kernel_size=5),   # (batch, 64, (H-8)//2, (W-8)//2)\n",
    "            nn.ReLU(),\n",
    "            nn.MaxPool2d(2)                    # (batch, 64, ((H-8)//2)//2, ((W-8)//2)//2)\n",
    "        )\n",
    "\n",
    "        # Flattened embedding size calculation:\n",
    "        # Input images are about (62, 47), after two conv + pool:\n",
    "        # Roughly size ~ (64, 11, 9)\n",
    "        self.fc1 = nn.Sequential(\n",
    "            nn.Linear(64 * 11 * 9, 256),\n",
    "            nn.ReLU(),\n",
    "            nn.Linear(256, 128)\n",
    "        )\n",
    "\n",
    "        # Final layer to compute similarity\n",
    "        self.fc2 = nn.Sequential(\n",
    "            nn.Linear(128, 1)\n",
    "        )\n",
    "\n",
    "    def forward_once(self, x):\n",
    "        # Pass one image through CNN and FC to get embedding\n",
    "        x = self.cnn(x)\n",
    "        x = x.view(x.size(0), -1)  # Flatten\n",
    "        x = self.fc1(x)\n",
    "        return x\n",
    "\n",
    "    def forward(self, input1, input2):\n",
    "        # Get embeddings\n",
    "        output1 = self.forward_once(input1)\n",
    "        output2 = self.forward_once(input2)\n",
    "\n",
    "        # Absolute difference between embeddings\n",
    "        distance = torch.abs(output1 - output2)\n",
    "\n",
    "        # Pass through final layer\n",
    "        out = self.fc2(distance)\n",
    "\n",
    "        return out\n"
   ],
   "id": "234c921a03cc8079"
  },
  {
   "metadata": {},
   "cell_type": "code",
   "outputs": [],
   "execution_count": null,
   "source": [
    "import torch\n",
    "import torch.nn as nn\n",
    "import torch.optim as optim\n",
    "\n",
    "# Model, Loss, Optimizer\n",
    "model = SiameseNetwork().to(device)\n",
    "criterion = nn.BCEWithLogitsLoss()\n",
    "optimizer = optim.Adam(model.parameters(), lr=1e-3)\n",
    "\n",
    "num_epochs = 20\n",
    "\n",
    "for epoch in range(num_epochs):\n",
    "    model.train()\n",
    "    running_loss = 0.0\n",
    "\n",
    "    for batch_idx, (img1, img2, label) in enumerate(train_loader):\n",
    "        img1, img2, label = img1.to(device), img2.to(device), label.to(device)\n",
    "\n",
    "        optimizer.zero_grad()\n",
    "\n",
    "        # Forward pass\n",
    "        output = model(img1, img2).squeeze()  # squeeze to match shape\n",
    "\n",
    "        # Loss\n",
    "        loss = criterion(output, label)\n",
    "\n",
    "        # Backward pass\n",
    "        loss.backward()\n",
    "\n",
    "        # Update weights\n",
    "        optimizer.step()\n",
    "\n",
    "        running_loss += loss.item()\n",
    "\n",
    "    epoch_loss = running_loss / len(train_loader)\n",
    "    print(f\"Epoch [{epoch+1}/{num_epochs}], Loss: {epoch_loss:.4f}\")\n"
   ],
   "id": "9cf10a257ce2e4e6"
  },
  {
   "metadata": {
    "ExecuteTime": {
     "end_time": "2025-04-24T11:59:20.802065Z",
     "start_time": "2025-04-24T11:59:13.099371Z"
    }
   },
   "cell_type": "code",
   "source": "",
   "id": "d8d150e8c09c4e08",
   "outputs": [
    {
     "name": "stdout",
     "output_type": "stream",
     "text": [
      "Saved 9164 images to 'lfw_train/'\n"
     ]
    }
   ],
   "execution_count": 5
  }
 ],
 "metadata": {
  "kernelspec": {
   "display_name": "Python 3",
   "language": "python",
   "name": "python3"
  },
  "language_info": {
   "codemirror_mode": {
    "name": "ipython",
    "version": 2
   },
   "file_extension": ".py",
   "mimetype": "text/x-python",
   "name": "python",
   "nbconvert_exporter": "python",
   "pygments_lexer": "ipython2",
   "version": "2.7.6"
  }
 },
 "nbformat": 4,
 "nbformat_minor": 5
}
